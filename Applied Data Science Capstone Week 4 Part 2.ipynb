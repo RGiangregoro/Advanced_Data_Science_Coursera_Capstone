{
    "cells": [
        {
            "cell_type": "markdown",
            "metadata": {
                "collapsed": true
            },
            "source": "<h1> Applied Data Science Capstone | Week 4 Part 2 | Data  </h1>"
        },
        {
            "cell_type": "markdown",
            "metadata": {},
            "source": "<h2> Obtaining Boston Zip Codes </h2>"
        },
        {
            "cell_type": "markdown",
            "metadata": {},
            "source": "<p> For the problem proposed we will need the zip codes of Boston neighborhoods. There are a few ways to accomplish this. We are going to scrape this webpage that has a table of Boston communities as well as their zip code. http://archive.boston.com/news/local/articles/2007/04/15/sixfigurezipcodes_city/ Using Python and the BeautifulSoup library, we should be able to scrape the information from the table on the website. Here is an small example of what data we will store into our dataframe. </p>"
        },
        {
            "cell_type": "code",
            "execution_count": 6,
            "metadata": {},
            "outputs": [
                {
                    "data": {
                        "text/html": "<div>\n<style scoped>\n    .dataframe tbody tr th:only-of-type {\n        vertical-align: middle;\n    }\n\n    .dataframe tbody tr th {\n        vertical-align: top;\n    }\n\n    .dataframe thead th {\n        text-align: right;\n    }\n</style>\n<table border=\"1\" class=\"dataframe\">\n  <thead>\n    <tr style=\"text-align: right;\">\n      <th></th>\n      <th>Zip code</th>\n      <th>Community</th>\n    </tr>\n  </thead>\n  <tbody>\n    <tr>\n      <th>0</th>\n      <td>02101</td>\n      <td>Downtown Boston</td>\n    </tr>\n  </tbody>\n</table>\n</div>",
                        "text/plain": "  Zip code        Community\n0    02101  Downtown Boston"
                    },
                    "execution_count": 6,
                    "metadata": {},
                    "output_type": "execute_result"
                }
            ],
            "source": "import pandas as pd\n\ndf = pd.DataFrame({\"Zip code\": ['02101'], \"Community\": ['Downtown Boston']})\n\ndf.head()"
        },
        {
            "cell_type": "markdown",
            "metadata": {},
            "source": "<h2> Adding Longitude and Latitude to our dataframe </h2>"
        },
        {
            "cell_type": "markdown",
            "metadata": {},
            "source": "<p>Now that we have a dataframe with Zipcodes and Community names we will need the longitude and latitude. We need the longitude and latitude because it will make interactions with the Foursquare API much easier. We can use the Geocoder library to get this information by Zip code. We will add the latitude and longitude to our dataframe and continue. </p> "
        },
        {
            "cell_type": "markdown",
            "metadata": {},
            "source": "<h2> FourSquare API: Explore Venues </h2>"
        },
        {
            "cell_type": "markdown",
            "metadata": {},
            "source": "<p> Now we can use the FourSqare API to get venues around our Boston communities. The API looks like this: https://api.foursquare.com/v2/venues/explore This will give us where the venue is as well as the category of that venue and the name of the venue. At this point we can create a new dataframe that has the venue information as well ad what community that venue is in.  </p>"
        },
        {
            "cell_type": "markdown",
            "metadata": {},
            "source": "<h2> FourSquare API: Trending Venues </h2>"
        },
        {
            "cell_type": "markdown",
            "metadata": {},
            "source": "<p> We can call another FourSquare API for more information on these venues. This is the trending venues API. The API looks like this: https://api.foursquare.com/v2/venues/trending Using this will give us the ability to mark the venues we found earlier as hotspots. We can add that information to the dataframe that we created earlier. </p>"
        },
        {
            "cell_type": "markdown",
            "metadata": {},
            "source": "<h2> Clean and Normalize the data </h2>"
        },
        {
            "cell_type": "markdown",
            "metadata": {},
            "source": "<p> This goes without saying but it is at this time that we have gathered all of the information that we want. Now we need to make sure the data is ready to be run through our model. We will clean the dataframe of duplicates and empty rows. Then we will normalize the data before running it through our clustering algorithm. </p> "
        },
        {
            "cell_type": "markdown",
            "metadata": {},
            "source": "<h2> Clustering with K-Means </h2>"
        },
        {
            "cell_type": "markdown",
            "metadata": {},
            "source": "<p> We will use the K-Means algorithm to run our dataframe through a classification. Once the classficiation algorithm is run it will label our dataframe with clusters from the data. This will give us an idea of data clusters. Maybe there are certain trends and factors that leads to venues being more popular. After running K-Means we can analyze the data and come to certain conclusions. </p>"
        }
    ],
    "metadata": {
        "kernelspec": {
            "display_name": "Python 3.7",
            "language": "python",
            "name": "python3"
        },
        "language_info": {
            "codemirror_mode": {
                "name": "ipython",
                "version": 3
            },
            "file_extension": ".py",
            "mimetype": "text/x-python",
            "name": "python",
            "nbconvert_exporter": "python",
            "pygments_lexer": "ipython3",
            "version": "3.7.10"
        }
    },
    "nbformat": 4,
    "nbformat_minor": 1
}