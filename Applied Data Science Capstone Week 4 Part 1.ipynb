{
    "cells": [
        {
            "cell_type": "markdown",
            "metadata": {
                "collapsed": true
            },
            "source": "<h1> Applied Data Science Capstone | Week 4 Part 1 | Business Proposal </h1>"
        },
        {
            "cell_type": "markdown",
            "metadata": {},
            "source": "<h2> The Problem </h2>"
        },
        {
            "cell_type": "markdown",
            "metadata": {},
            "source": "<p> Hypothetically speaking, there is a person who wants to open a venue. This person has lived in Massachusetts his whole life. The only thing he knows about the where for this resturant is that it should be in Boston.\n\nThis leaves a bunch of factors for the location. This leads to the problem for which we can solve. \n\nWe are trying to find a location in the city of Boston for a new venue. Depending what is popular we would like to know what kind of venue and what neighborhood the venue should be in.</p>"
        },
        {
            "cell_type": "markdown",
            "metadata": {},
            "source": "<h2> FourSquare </h2>"
        },
        {
            "cell_type": "markdown",
            "metadata": {},
            "source": "<p> Working with the Four Square API we can find the venue information we are looking for. The Four Square API returns important venue information such as trending popularity. The venues explore API returns the venues around the neighborhood and the tranding venues returns the list of venues that most people are located. This will give us the ability to create hotspots in certain areas. </p>"
        },
        {
            "cell_type": "markdown",
            "metadata": {},
            "source": "<h2> Clustering </h2>"
        },
        {
            "cell_type": "markdown",
            "metadata": {},
            "source": "<p> After getting the Boston neighborhood information and the venue information from Foursquare we can use machine learning. This is unsupervised machine learning because we are looking for clusters in the data that are not apparent. This compiled data from the previous step will be put into a dataframe and using classification we will cluster the data. At this point we can analyze the clusters to see where the most popular venues are and what kind of venues they are. That will give us an educated answer to the problem we have.  </p>"
        }
    ],
    "metadata": {
        "kernelspec": {
            "display_name": "Python 3.7",
            "language": "python",
            "name": "python3"
        },
        "language_info": {
            "codemirror_mode": {
                "name": "ipython",
                "version": 3
            },
            "file_extension": ".py",
            "mimetype": "text/x-python",
            "name": "python",
            "nbconvert_exporter": "python",
            "pygments_lexer": "ipython3",
            "version": "3.7.10"
        }
    },
    "nbformat": 4,
    "nbformat_minor": 1
}