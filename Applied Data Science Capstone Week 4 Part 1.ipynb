{
    "cells": [
        {
            "cell_type": "markdown",
            "metadata": {
                "collapsed": true
            },
            "source": "<h1> Applied Data Science Capstone | Week 4 Part 1 | Business Proposal </h1>"
        },
        {
            "cell_type": "markdown",
            "metadata": {},
            "source": "<h2> Introduction </h2>"
        },
        {
            "cell_type": "markdown",
            "metadata": {},
            "source": "<p> Hypothetically speaking, there is a person who wants to open a resturant. This person has lived in Massachusetts his whole life. The only thing he knows about the where for this resturant is that it should be in Boston.\n\nThis leaves a bunch of factors for the location. This leads to the problem for which we can solve. \n\nWe are trying to find a location in the city of Boston for a new resturant. We need to know the clusters of venues throughout the city and see which ones are the most poular. Then we can make an informed guess of the best place to create a venue in Boston MA.</p>"
        },
        {
            "cell_type": "markdown",
            "metadata": {},
            "source": "<h2> FourSquare </h2>"
        },
        {
            "cell_type": "markdown",
            "metadata": {},
            "source": "<p> Working with the Four Square API we can find the venue information we are looking for. The Four Square API returns important venue information such as trending popularity. We would need to set limit = 100 and radius = 500 for the Four Square API to stay within the limits of the free version. </p>"
        },
        {
            "cell_type": "markdown",
            "metadata": {},
            "source": "<h2> Clustering </h2>"
        },
        {
            "cell_type": "markdown",
            "metadata": {},
            "source": "<p> We can find the trending venue data and cut them up into a dataframe. Once we have the data within a dataframe we can use a unsupervised machine learning algorithm like K-means to cluster the data. This will give us important information. We can examine the different clusters and see which one is best for out purposes. </p>"
        }
    ],
    "metadata": {
        "kernelspec": {
            "display_name": "Python 3.7",
            "language": "python",
            "name": "python3"
        },
        "language_info": {
            "codemirror_mode": {
                "name": "ipython",
                "version": 3
            },
            "file_extension": ".py",
            "mimetype": "text/x-python",
            "name": "python",
            "nbconvert_exporter": "python",
            "pygments_lexer": "ipython3",
            "version": "3.7.10"
        }
    },
    "nbformat": 4,
    "nbformat_minor": 1
}